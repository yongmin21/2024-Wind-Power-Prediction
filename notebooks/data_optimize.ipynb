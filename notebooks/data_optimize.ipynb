{
 "cells": [
  {
   "cell_type": "code",
   "execution_count": 2,
   "metadata": {},
   "outputs": [],
   "source": [
    "import sys\n",
    "sys.path.append('../src')\n",
    "\n",
    "import pandas as pd\n",
    "import numpy as np\n",
    "import matplotlib.pyplot as plt\n",
    "import seaborn as sns\n",
    "\n",
    "# custom function\n",
    "from utils import reduce_mem_usage, uv_to_wsd\n",
    "import config"
   ]
  },
  {
   "cell_type": "markdown",
   "metadata": {},
   "source": [
    "### YG"
   ]
  },
  {
   "cell_type": "code",
   "execution_count": null,
   "metadata": {},
   "outputs": [],
   "source": [
    "path = \"공모전 제공용 데이터 및 예제/3-1. 분석용데이터_영광풍력_SCADA/\" # 각자 path 설정\n",
    "\n",
    "for i in range(35): # 영광 35개 터빈\n",
    "    power1 = (pd.read_excel(path + \"dynamic_report_ewp004_202001_202007.xlsx\", \n",
    "                            index_col=None, \n",
    "                            sheet_name=i, \n",
    "                            header=5)\n",
    "            .rename(columns={'Date/Time': 'dt', \n",
    "                             'WTG. Name': 'turbine_id'}));\n",
    "\n",
    "    power2 = (pd.read_excel(path + \"dynamic_report_ewp004_202008_202012.xlsx\", \n",
    "                            index_col=None, \n",
    "                            sheet_name=i, \n",
    "                            header=5)\n",
    "                .rename(columns={'Date/Time': 'dt', \n",
    "                                 'WTG. Name': 'turbine_id'}));\n",
    "\n",
    "    power3 = (pd.read_excel(path + \"dynamic_report_ewp004_202101_202106.xlsx\", \n",
    "                            index_col=None, \n",
    "                            sheet_name=i, \n",
    "                            header=5)\n",
    "                .rename(columns={'Date/Time': 'dt', \n",
    "                                 'WTG. Name': 'turbine_id'}));\n",
    "\n",
    "    power4 = (pd.read_excel(path + \"dynamic_report_ewp004_202107_202112.xlsx\", \n",
    "                            index_col=None, \n",
    "                            sheet_name=i, \n",
    "                            header=5)\n",
    "                .rename(columns={'Date/Time': 'dt', \n",
    "                                 'WTG. Name': 'turbine_id'}));\n",
    "\n",
    "    power5 = (pd.read_excel(path + \"dynamic_report_ewp004_202201_202206.xlsx\", \n",
    "                            index_col=None, \n",
    "                            sheet_name=i, \n",
    "                            header=5)\n",
    "                .rename(columns={'Date/Time': 'dt', \n",
    "                                 'WTG. Name': 'turbine_id'}));\n",
    "\n",
    "    power6 = (pd.read_excel(path + \"dynamic_report_ewp004_202207_202212.xlsx\", \n",
    "                            index_col=None, \n",
    "                            sheet_name=i, \n",
    "                            header=5)\n",
    "                .rename(columns={'Date/Time': 'dt',\n",
    "                                 'WTG. Name': 'turbine_id'}));\n",
    "\n",
    "    power = pd.concat([power1, power2, power3, power4, power5, power6], axis=0)\n",
    "    \n",
    "    idx = power.loc[power['dt'].isin(['Summation', 'Average', 'Standard Deviation'])].index\n",
    "    power.drop(idx, axis=0, inplace=True)\n",
    "\n",
    "    power = reduce_mem_usage(power, use_float16=False)\n",
    "    \n",
    "    try:\n",
    "        power['dt'] = (pd.to_datetime(power['dt'])\n",
    "                       .dt\n",
    "                       .tz_convert(\"Asia/Seoul\"))\n",
    "    except TypeError: \n",
    "        power['dt'] = (pd.to_datetime(power['dt'])\n",
    "                       .dt\n",
    "                       .tz_localize(\"Asia/Seoul\"))\n",
    "\n",
    "    power.to_parquet(f\"../input/ewp004_2020_2022_WTG{i + 1}.parquet\", index=False)\n"
   ]
  },
  {
   "cell_type": "code",
   "execution_count": null,
   "metadata": {},
   "outputs": [],
   "source": [
    "train_path = '공모전 제공용 데이터 및 예제/1-3. train_ldaps_yeonggwang.pkl' # 각자 path 설정\n",
    "test_path = '공모전 제공용 데이터 및 예제/1-3. test_ldaps_yeonggwang.pkl'\n",
    "\n",
    "train_ldaps = (pd.read_pickle(train_path)\n",
    "               .reset_index(drop=False))\n",
    "\n",
    "test_ldaps = (pd.read_pickle(test_path)\n",
    "              .reset_index(drop=False))\n",
    "\n",
    "train_ldaps = reduce_mem_usage(train_ldaps, use_float16=False)\n",
    "test_ldaps = reduce_mem_usage(test_ldaps, use_float16=False)\n",
    "\n",
    "train_ldaps.to_parquet(\"../input/train_ldaps_yeonggwang.parquet\", index=False)\n",
    "test_ldaps.to_parquet(\"../input/test_ldaps_yeonggwang.parquet\", index=False)"
   ]
  },
  {
   "cell_type": "markdown",
   "metadata": {},
   "source": [
    "### GJ"
   ]
  },
  {
   "cell_type": "code",
   "execution_count": null,
   "metadata": {},
   "outputs": [],
   "source": [
    "path = \"공모전 제공용 데이터 및 예제/3-1. 분석용데이터_경주풍력_SCADA/\" # 각자 path 설정\n",
    "\n",
    "for i in range(9): # 경주 9개 터빈\n",
    "    power1 = (pd.read_excel(path + \"dynamic_report_ewp02_2020_10min.xlsx\", \n",
    "                            index_col=None, \n",
    "                            sheet_name=i, \n",
    "                            header=5)\n",
    "              .rename(columns={'Date/Time': 'dt',\n",
    "                               'WTG. Name': 'turbine_id'}));\n",
    "    \n",
    "    power2 = (pd.read_excel(path + \"dynamic_report_ewp02_2020_10min.xlsx\", \n",
    "                            index_col=None, \n",
    "                            sheet_name=i, \n",
    "                            header=5)\n",
    "              .rename(columns={'Date/Time': 'dt',\n",
    "                               'WTG. Name': 'turbine_id'}));\n",
    "    \n",
    "    power3 = (pd.read_excel(path + \"dynamic_report_ewp02_2020_10min.xlsx\", \n",
    "                            index_col=None, \n",
    "                            sheet_name=i, \n",
    "                            header=5)\n",
    "              .rename(columns={'Date/Time': 'dt', \n",
    "                               'WTG. Name': 'turbine_id'}));\n",
    "    \n",
    "    power = pd.concat([power1, power2, power3], axis=0)\n",
    "    \n",
    "    idx = power.loc[power['dt'].isin(['Summation', 'Average', 'Standard Deviation'])].index\n",
    "    power.drop(idx, axis=0, inplace=True)\n",
    "\n",
    "    power = reduce_mem_usage(power, use_float16=False)\n",
    "    \n",
    "    try:\n",
    "        power['dt'] = (pd.to_datetime(power['dt'])\n",
    "                       .dt\n",
    "                       .tz_convert(\"Asia/Seoul\"))\n",
    "    except TypeError:\n",
    "        power['dt'] = (pd.to_datetime(power['dt'])\n",
    "                       .dt\n",
    "                       .tz_localize(\"Asia/Seoul\"))\n",
    "\n",
    "    power.to_parquet(f\"../input/ewp02_2020_2022_WTG{i + 1}.parquet\", index=False)"
   ]
  },
  {
   "cell_type": "code",
   "execution_count": null,
   "metadata": {},
   "outputs": [],
   "source": [
    "train_path = '공모전 제공용 데이터 및 예제/1-4. train_ldaps_gyeongju.pkl' # 각자 path 설정\n",
    "test_path = '공모전 제공용 데이터 및 예제/1-4. test_ldaps_gyeongju.pkl'\n",
    "\n",
    "train_ldaps = (pd.read_pickle(train_path)\n",
    "               .reset_index(drop=False))\n",
    "\n",
    "test_ldaps = (pd.read_pickle(test_path)\n",
    "              .reset_index(drop=False))\n",
    "\n",
    "train_ldaps = reduce_mem_usage(train_ldaps, use_float16=False)\n",
    "test_ldaps = reduce_mem_usage(test_ldaps, use_float16=False)\n",
    "\n",
    "train_ldaps.to_parquet(\"../input/train_ldaps_yeonggwang.parquet\", index=False)\n",
    "test_ldaps.to_parquet(\"../input/test_ldaps_yeonggwang.parquet\", index=False)"
   ]
  },
  {
   "cell_type": "markdown",
   "metadata": {},
   "source": [
    "### Target"
   ]
  },
  {
   "cell_type": "code",
   "execution_count": null,
   "metadata": {},
   "outputs": [],
   "source": [
    "path = '공모전 제공용 데이터 및 예제/1-1. train_y.csv'\n",
    "\n",
    "train_y = pd.read_csv(path)\n",
    "train_y.to_parquet(\"../input/train_y.parquet\", index=False)"
   ]
  }
 ],
 "metadata": {
  "kernelspec": {
   "display_name": "windpower_comp",
   "language": "python",
   "name": "python3"
  },
  "language_info": {
   "codemirror_mode": {
    "name": "ipython",
    "version": 3
   },
   "file_extension": ".py",
   "mimetype": "text/x-python",
   "name": "python",
   "nbconvert_exporter": "python",
   "pygments_lexer": "ipython3",
   "version": "3.10.14"
  }
 },
 "nbformat": 4,
 "nbformat_minor": 2
}
